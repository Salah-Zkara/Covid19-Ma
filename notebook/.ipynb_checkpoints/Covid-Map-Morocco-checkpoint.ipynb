{
 "cells": [
  {
   "cell_type": "code",
   "execution_count": 1,
   "metadata": {},
   "outputs": [],
   "source": [
    "import folium\n",
    "import pandas as pd\n",
    "from bs4 import BeautifulSoup\n",
    "#import pickle\n",
    "from selenium import webdriver\n",
    "from selenium.webdriver.support.ui import WebDriverWait  # for implicit and explict waits\n",
    "from selenium.webdriver.chrome.options import Options  # for suppressing the browser"
   ]
  },
  {
   "cell_type": "code",
   "execution_count": 2,
   "metadata": {},
   "outputs": [],
   "source": [
    "chrome_driver_path = 'C:\\drivers\\chromedriver.exe'\n",
    "url = \"https://m.le360.ma/covidmaroc/\"\n",
    "option = webdriver.ChromeOptions()\n",
    "option.add_argument('headless')\n",
    "browser = webdriver.Chrome(chrome_driver_path,options=option)\n",
    "browser.get(url)\n",
    "html = browser.page_source\n",
    "browser.quit()"
   ]
  },
  {
   "cell_type": "code",
   "execution_count": 3,
   "metadata": {},
   "outputs": [
    {
     "data": {
      "text/plain": [
       "\"infile = open('html_save','rb')\\nhtml = pickle.load(infile)\\ninfile.close()\""
      ]
     },
     "execution_count": 3,
     "metadata": {},
     "output_type": "execute_result"
    }
   ],
   "source": [
    "'''outfile = open('html_save','wb')\n",
    "pickle.dump(html,outfile)\n",
    "outfile.close()'''\n",
    "'''infile = open('html_save','rb')\n",
    "html = pickle.load(infile)\n",
    "infile.close()'''"
   ]
  },
  {
   "cell_type": "code",
   "execution_count": 11,
   "metadata": {},
   "outputs": [],
   "source": [
    "soup = BeautifulSoup(html,'html.parser')\n",
    "list_table=soup.find_all('table', class_='table table-bordered dataTable')[0].find('tbody').find_all('tr')"
   ]
  },
  {
   "cell_type": "code",
   "execution_count": 26,
   "metadata": {},
   "outputs": [
    {
     "ename": "AttributeError",
     "evalue": "ResultSet object has no attribute 'find'. You're probably treating a list of elements like a single element. Did you call find_all() when you meant to call find()?",
     "output_type": "error",
     "traceback": [
      "\u001b[1;31m---------------------------------------------------------------------------\u001b[0m",
      "\u001b[1;31mAttributeError\u001b[0m                            Traceback (most recent call last)",
      "\u001b[1;32m<ipython-input-26-bb37dab947be>\u001b[0m in \u001b[0;36m<module>\u001b[1;34m\u001b[0m\n\u001b[1;32m----> 1\u001b[1;33m \u001b[0mtest\u001b[0m \u001b[1;33m=\u001b[0m \u001b[0mlist_table\u001b[0m\u001b[1;33m.\u001b[0m\u001b[0mfind\u001b[0m\u001b[1;33m(\u001b[0m\u001b[1;34m'td'\u001b[0m\u001b[1;33m)\u001b[0m\u001b[1;33m\u001b[0m\u001b[1;33m\u001b[0m\u001b[0m\n\u001b[0m\u001b[0;32m      2\u001b[0m \u001b[0mtest\u001b[0m\u001b[1;33m\u001b[0m\u001b[1;33m\u001b[0m\u001b[0m\n",
      "\u001b[1;32mc:\\users\\salzk\\appdata\\local\\programs\\python\\python38\\lib\\site-packages\\bs4\\element.py\u001b[0m in \u001b[0;36m__getattr__\u001b[1;34m(self, key)\u001b[0m\n\u001b[0;32m   2158\u001b[0m     \u001b[1;32mdef\u001b[0m \u001b[0m__getattr__\u001b[0m\u001b[1;33m(\u001b[0m\u001b[0mself\u001b[0m\u001b[1;33m,\u001b[0m \u001b[0mkey\u001b[0m\u001b[1;33m)\u001b[0m\u001b[1;33m:\u001b[0m\u001b[1;33m\u001b[0m\u001b[1;33m\u001b[0m\u001b[0m\n\u001b[0;32m   2159\u001b[0m         \u001b[1;34m\"\"\"Raise a helpful exception to explain a common code fix.\"\"\"\u001b[0m\u001b[1;33m\u001b[0m\u001b[1;33m\u001b[0m\u001b[0m\n\u001b[1;32m-> 2160\u001b[1;33m         raise AttributeError(\n\u001b[0m\u001b[0;32m   2161\u001b[0m             \u001b[1;34m\"ResultSet object has no attribute '%s'. You're probably treating a list of elements like a single element. Did you call find_all() when you meant to call find()?\"\u001b[0m \u001b[1;33m%\u001b[0m \u001b[0mkey\u001b[0m\u001b[1;33m\u001b[0m\u001b[1;33m\u001b[0m\u001b[0m\n\u001b[0;32m   2162\u001b[0m         )\n",
      "\u001b[1;31mAttributeError\u001b[0m: ResultSet object has no attribute 'find'. You're probably treating a list of elements like a single element. Did you call find_all() when you meant to call find()?"
     ]
    }
   ],
   "source": [
    "test = list_table.find('td')\n",
    "test"
   ]
  },
  {
   "cell_type": "code",
   "execution_count": null,
   "metadata": {},
   "outputs": [],
   "source": [
    "def clean_word(L):\n",
    "    a=[]\n",
    "    for word in L:\n",
    "        if len(word>2):\n",
    "            a.append(word)\n",
    "    \" \".join(a)"
   ]
  },
  {
   "cell_type": "code",
   "execution_count": 39,
   "metadata": {},
   "outputs": [
    {
     "name": "stdout",
     "output_type": "stream",
     "text": [
      "['\\n', '', '', '', '', '', '', 'Grand', 'Casablanca-Settat\\u200b\\u200b', '\\n']\n",
      "35\n",
      "['\\n', '', '', '', '', '', '', 'Rabat', 'Salé', 'Kenitra\\u200b\\u200b', '\\n']\n",
      "30\n",
      "['\\n', '', '', '', '', '', '', 'Oriental\\u200b\\u200b', '\\n']\n",
      "20\n",
      "['\\n', '', '', '', '', '', '', 'Tanger', 'Tetouan', 'Al', 'Hoceima\\u200b\\u200b', '\\n']\n",
      "37\n",
      "['\\n', '', '', '', '', '', '', 'Souss-Massa\\u200b\\u200b', '\\n']\n",
      "23\n",
      "['\\n', '', '', '', '', '', '', 'Marrakech', 'Safi\\u200b\\u200b', '\\n']\n",
      "26\n",
      "['\\n', '', '', '', '', '', '', 'Beni', 'Mellal-Khénifra\\u200b\\u200b', '\\n']\n",
      "32\n",
      "['\\n', '', '', '', '', '', '', 'Darâa-Tafilalet\\u200b\\u200b', '\\n']\n",
      "27\n",
      "['\\n', '', '', '', '', '', '', 'Fès', 'meknes\\u200b\\u200b', '\\n']\n",
      "22\n",
      "['\\n', '', '', '', '', '', '', 'Laâyoune-Sakia', 'El', 'Hamra\\u200b\\u200b', '\\n']\n",
      "35\n",
      "['\\n', '', '', '', '', '', '', 'Guelmim', 'Oued', 'Noun\\u200b\\u200b', '\\n']\n",
      "29\n",
      "['\\n', '', '', '', '', '', '', 'Dakhla-Oued', 'Ed', 'Daha\\u200b\\u200b', '\\n']\n",
      "31\n"
     ]
    }
   ],
   "source": [
    "mytable=[]\n",
    "for row in list_table:\n",
    "    row=row.find_all('td')\n",
    "    print(row[0].find('span').text.split(' '))\n",
    "    print(len(row[0].find('span').text))\n",
    "    \n",
    "    name = row[0].text.split('\\u200b')[0]\n",
    "    cas = int(row[1].text)\n",
    "    cast_24 = int(row[2].text[1:])\n",
    "    if(row[3].text[1:]==''):\n",
    "        dead_24=0\n",
    "    else:\n",
    "        dead_24 = int(row[3].text[1:])\n",
    "    mytable.append({'name': name , 'cas': cas , 'cas_24': cast_24, 'dead_24':dead_24 })"
   ]
  },
  {
   "cell_type": "code",
   "execution_count": 6,
   "metadata": {},
   "outputs": [],
   "source": [
    "regions_loc = [{'name': 'Oriental',\n",
    "  'latitude': 34.21063161705621,\n",
    "  'longitude': -2.2398292872475123},\n",
    " {'name': 'Tanger Tetouan Al Hoceima',\n",
    "  'latitude': 35.21648916999964,\n",
    "  'longitude': -5.46061811161441},\n",
    " {'name': 'Guelmim Oued Noun',\n",
    "  'latitude': 28.537079417694862,\n",
    "  'longitude': -10.21129615427537},\n",
    " {'name': 'Dakhla-Oued Ed Daha',\n",
    "  'latitude': 23.187768662138904,\n",
    "  'longitude': -14.576887039381933},\n",
    " {'name': 'Beni Mellal-Khénifra',\n",
    "  'latitude': 32.35536866706775,\n",
    "  'longitude': -6.354611221480209},\n",
    " {'name': 'Darâa-Tafilalet',\n",
    "  'latitude': 30.849663419282095,\n",
    "  'longitude': -5.281174310301617},\n",
    " {'name': 'Marrakech Safi',\n",
    "  'latitude': 31.658566001930208,\n",
    "  'longitude': -8.50060605705501},\n",
    " {'name': 'Grand Casablanca-Settat',\n",
    "  'latitude': 33.09434328504623,\n",
    "  'longitude': -7.5835225431320215},\n",
    " {'name': 'Fès meknes',\n",
    "  'latitude': 33.81997585277711,\n",
    "  'longitude': -4.635183604212562},\n",
    " {'name': 'Laâyoune-Sakia El Hamra',\n",
    "  'latitude': 26.150695319294833,\n",
    "  'longitude': -12.827810335977418},\n",
    " {'name': 'Rabat Salé Kenitra',\n",
    "  'latitude': 34.03819378608868,\n",
    "  'longitude': -6.373051694854541},\n",
    " {'name': 'Souss-Massa',\n",
    "  'latitude': 29.911104363087805,\n",
    "  'longitude': -8.683976891847944}]"
   ]
  },
  {
   "cell_type": "code",
   "execution_count": 7,
   "metadata": {},
   "outputs": [],
   "source": [
    "L=[]\n",
    "for i in range(12):\n",
    "    for j in range(12):\n",
    "        if(regions_loc[i]['name']==mytable[j]['name']):\n",
    "            mytable[j]['latitude'] = regions_loc[i]['latitude']\n",
    "            mytable[j]['longitude'] = regions_loc[i]['longitude']\n",
    "            L.append(mytable[j])\n",
    "            continue"
   ]
  },
  {
   "cell_type": "code",
   "execution_count": 8,
   "metadata": {},
   "outputs": [
    {
     "data": {
      "text/html": [
       "<div>\n",
       "<style scoped>\n",
       "    .dataframe tbody tr th:only-of-type {\n",
       "        vertical-align: middle;\n",
       "    }\n",
       "\n",
       "    .dataframe tbody tr th {\n",
       "        vertical-align: top;\n",
       "    }\n",
       "\n",
       "    .dataframe thead th {\n",
       "        text-align: right;\n",
       "    }\n",
       "</style>\n",
       "<table border=\"1\" class=\"dataframe\">\n",
       "  <thead>\n",
       "    <tr style=\"text-align: right;\">\n",
       "      <th></th>\n",
       "    </tr>\n",
       "  </thead>\n",
       "  <tbody>\n",
       "  </tbody>\n",
       "</table>\n",
       "</div>"
      ],
      "text/plain": [
       "Empty DataFrame\n",
       "Columns: []\n",
       "Index: []"
      ]
     },
     "execution_count": 8,
     "metadata": {},
     "output_type": "execute_result"
    }
   ],
   "source": [
    "df = pd.DataFrame(L)\n",
    "df"
   ]
  },
  {
   "cell_type": "code",
   "execution_count": 9,
   "metadata": {},
   "outputs": [
    {
     "ename": "KeyError",
     "evalue": "\"None of ['name'] are in the columns\"",
     "output_type": "error",
     "traceback": [
      "\u001b[1;31m---------------------------------------------------------------------------\u001b[0m",
      "\u001b[1;31mKeyError\u001b[0m                                  Traceback (most recent call last)",
      "\u001b[1;32m<ipython-input-9-d2b8a46677e7>\u001b[0m in \u001b[0;36m<module>\u001b[1;34m\u001b[0m\n\u001b[0;32m      1\u001b[0m \u001b[0mma\u001b[0m \u001b[1;33m=\u001b[0m \u001b[0mfolium\u001b[0m\u001b[1;33m.\u001b[0m\u001b[0mMap\u001b[0m\u001b[1;33m(\u001b[0m\u001b[0mlocation\u001b[0m\u001b[1;33m=\u001b[0m\u001b[1;33m[\u001b[0m\u001b[1;36m30\u001b[0m\u001b[1;33m,\u001b[0m \u001b[1;33m-\u001b[0m\u001b[1;36m10\u001b[0m\u001b[1;33m]\u001b[0m\u001b[1;33m,\u001b[0m \u001b[0mzoom_start\u001b[0m\u001b[1;33m=\u001b[0m\u001b[1;36m5\u001b[0m\u001b[1;33m,\u001b[0m \u001b[0mmin_zoom\u001b[0m\u001b[1;33m=\u001b[0m\u001b[1;36m4\u001b[0m\u001b[1;33m,\u001b[0m \u001b[0mmax_zoom\u001b[0m\u001b[1;33m=\u001b[0m\u001b[1;36m7\u001b[0m\u001b[1;33m,\u001b[0m\u001b[0mtiles\u001b[0m\u001b[1;33m=\u001b[0m\u001b[1;34m\"cartodbpositron\"\u001b[0m\u001b[1;33m)\u001b[0m\u001b[1;33m\u001b[0m\u001b[1;33m\u001b[0m\u001b[0m\n\u001b[0;32m      2\u001b[0m \u001b[0mgeo\u001b[0m \u001b[1;33m=\u001b[0m \u001b[1;34m\"https://raw.githubusercontent.com/Salah-Zkara/Morocco-GeoJson/master/Morocco-Regions.json\"\u001b[0m\u001b[1;33m\u001b[0m\u001b[1;33m\u001b[0m\u001b[0m\n\u001b[1;32m----> 3\u001b[1;33m folium.Choropleth(\n\u001b[0m\u001b[0;32m      4\u001b[0m     \u001b[0mgeo_data\u001b[0m\u001b[1;33m=\u001b[0m\u001b[0mgeo\u001b[0m\u001b[1;33m,\u001b[0m\u001b[1;33m\u001b[0m\u001b[1;33m\u001b[0m\u001b[0m\n\u001b[0;32m      5\u001b[0m     \u001b[0mname\u001b[0m\u001b[1;33m=\u001b[0m\u001b[1;34m'COVID-19'\u001b[0m\u001b[1;33m,\u001b[0m\u001b[1;33m\u001b[0m\u001b[1;33m\u001b[0m\u001b[0m\n",
      "\u001b[1;32mc:\\users\\salzk\\appdata\\local\\programs\\python\\python38\\lib\\site-packages\\folium\\features.py\u001b[0m in \u001b[0;36m__init__\u001b[1;34m(self, geo_data, data, columns, key_on, bins, fill_color, nan_fill_color, fill_opacity, nan_fill_opacity, line_color, line_weight, line_opacity, name, legend_name, overlay, control, show, topojson, smooth_factor, highlight, **kwargs)\u001b[0m\n\u001b[0;32m   1156\u001b[0m         \u001b[1;32mif\u001b[0m \u001b[0mhasattr\u001b[0m\u001b[1;33m(\u001b[0m\u001b[0mdata\u001b[0m\u001b[1;33m,\u001b[0m \u001b[1;34m'set_index'\u001b[0m\u001b[1;33m)\u001b[0m\u001b[1;33m:\u001b[0m\u001b[1;33m\u001b[0m\u001b[1;33m\u001b[0m\u001b[0m\n\u001b[0;32m   1157\u001b[0m             \u001b[1;31m# This is a pd.DataFrame\u001b[0m\u001b[1;33m\u001b[0m\u001b[1;33m\u001b[0m\u001b[1;33m\u001b[0m\u001b[0m\n\u001b[1;32m-> 1158\u001b[1;33m             \u001b[0mcolor_data\u001b[0m \u001b[1;33m=\u001b[0m \u001b[0mdata\u001b[0m\u001b[1;33m.\u001b[0m\u001b[0mset_index\u001b[0m\u001b[1;33m(\u001b[0m\u001b[0mcolumns\u001b[0m\u001b[1;33m[\u001b[0m\u001b[1;36m0\u001b[0m\u001b[1;33m]\u001b[0m\u001b[1;33m)\u001b[0m\u001b[1;33m[\u001b[0m\u001b[0mcolumns\u001b[0m\u001b[1;33m[\u001b[0m\u001b[1;36m1\u001b[0m\u001b[1;33m]\u001b[0m\u001b[1;33m]\u001b[0m\u001b[1;33m.\u001b[0m\u001b[0mto_dict\u001b[0m\u001b[1;33m(\u001b[0m\u001b[1;33m)\u001b[0m\u001b[1;33m\u001b[0m\u001b[1;33m\u001b[0m\u001b[0m\n\u001b[0m\u001b[0;32m   1159\u001b[0m         \u001b[1;32melif\u001b[0m \u001b[0mhasattr\u001b[0m\u001b[1;33m(\u001b[0m\u001b[0mdata\u001b[0m\u001b[1;33m,\u001b[0m \u001b[1;34m'to_dict'\u001b[0m\u001b[1;33m)\u001b[0m\u001b[1;33m:\u001b[0m\u001b[1;33m\u001b[0m\u001b[1;33m\u001b[0m\u001b[0m\n\u001b[0;32m   1160\u001b[0m             \u001b[1;31m# This is a pd.Series\u001b[0m\u001b[1;33m\u001b[0m\u001b[1;33m\u001b[0m\u001b[1;33m\u001b[0m\u001b[0m\n",
      "\u001b[1;32mc:\\users\\salzk\\appdata\\local\\programs\\python\\python38\\lib\\site-packages\\pandas\\core\\frame.py\u001b[0m in \u001b[0;36mset_index\u001b[1;34m(self, keys, drop, append, inplace, verify_integrity)\u001b[0m\n\u001b[0;32m   4301\u001b[0m \u001b[1;33m\u001b[0m\u001b[0m\n\u001b[0;32m   4302\u001b[0m         \u001b[1;32mif\u001b[0m \u001b[0mmissing\u001b[0m\u001b[1;33m:\u001b[0m\u001b[1;33m\u001b[0m\u001b[1;33m\u001b[0m\u001b[0m\n\u001b[1;32m-> 4303\u001b[1;33m             \u001b[1;32mraise\u001b[0m \u001b[0mKeyError\u001b[0m\u001b[1;33m(\u001b[0m\u001b[1;34mf\"None of {missing} are in the columns\"\u001b[0m\u001b[1;33m)\u001b[0m\u001b[1;33m\u001b[0m\u001b[1;33m\u001b[0m\u001b[0m\n\u001b[0m\u001b[0;32m   4304\u001b[0m \u001b[1;33m\u001b[0m\u001b[0m\n\u001b[0;32m   4305\u001b[0m         \u001b[1;32mif\u001b[0m \u001b[0minplace\u001b[0m\u001b[1;33m:\u001b[0m\u001b[1;33m\u001b[0m\u001b[1;33m\u001b[0m\u001b[0m\n",
      "\u001b[1;31mKeyError\u001b[0m: \"None of ['name'] are in the columns\""
     ]
    }
   ],
   "source": [
    "ma = folium.Map(location=[30, -10], zoom_start=5, min_zoom=4, max_zoom=7,tiles=\"cartodbpositron\")\n",
    "geo = \"https://raw.githubusercontent.com/Salah-Zkara/Morocco-GeoJson/master/Morocco-Regions.json\"\n",
    "folium.Choropleth(\n",
    "    geo_data=geo,\n",
    "    name='COVID-19',\n",
    "    data=df,\n",
    "    columns=['name', 'cas'],\n",
    "    key_on='feature.properties.nom_region',\n",
    "    fill_color='OrRd',\n",
    "    fill_opacity=0.7,\n",
    "    line_opacity=0.2,\n",
    "    legend_name='Total de cas confirmé',\n",
    ").add_to(ma)"
   ]
  },
  {
   "cell_type": "code",
   "execution_count": null,
   "metadata": {},
   "outputs": [],
   "source": [
    "def plotDot(point):\n",
    "    html =\"<center>\"+str(point['name'])+\"</center>\"+\"<br>\"+\"<font color='#d95e00'>\"+\"<b>\"+str(point['cas'])+\"</b>\"+\"</font>\"+\" Total de cas confirmé.<br>\"+\"<font color='#e6b01c'>\"+\"<b>\"+str(point['cas_24'])+\"</b>\"+\"</font>\"+\" Cas contaminés aujourd'hui.<br>\"+\"<font color='#cc0c0c'>\"+\"<b>\"+str(point['dead_24'])+\"</b>\"+\"</font>\"+\" Décès aujourd'hui.<br>\"\n",
    "    iframe = folium.IFrame(html,\n",
    "                       width=250,\n",
    "                       height=120)\n",
    "    folium.CircleMarker(location=[point.latitude, point.longitude],\n",
    "                        radius=24,\n",
    "                        weight=0,\n",
    "                        popup = folium.Popup(iframe),\n",
    "                        fill_color='#000000',\n",
    "                        fill_opacity=0,\n",
    "                        line_opacity=0\n",
    "                       ).add_to(ma)\n",
    "\n",
    "df.apply(plotDot, axis = 1)\n",
    "\n",
    "ma.fit_bounds(ma.get_bounds())"
   ]
  },
  {
   "cell_type": "code",
   "execution_count": null,
   "metadata": {
    "scrolled": false
   },
   "outputs": [],
   "source": [
    "ma"
   ]
  },
  {
   "cell_type": "code",
   "execution_count": null,
   "metadata": {},
   "outputs": [],
   "source": [
    "#ma.save(outfile= \"Covid-Map-Morocco.html\")"
   ]
  }
 ],
 "metadata": {
  "kernelspec": {
   "display_name": "Python 3",
   "language": "python",
   "name": "python3"
  },
  "language_info": {
   "codemirror_mode": {
    "name": "ipython",
    "version": 3
   },
   "file_extension": ".py",
   "mimetype": "text/x-python",
   "name": "python",
   "nbconvert_exporter": "python",
   "pygments_lexer": "ipython3",
   "version": "3.8.5"
  }
 },
 "nbformat": 4,
 "nbformat_minor": 4
}
